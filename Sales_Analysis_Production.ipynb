{
  "cells": [
    {
      "cell_type": "markdown",
      "metadata": {
        "id": "view-in-github",
        "colab_type": "text"
      },
      "source": [
        "<a href=\"https://colab.research.google.com/github/cdevrywhr/Data-Analysis/blob/main/Sales_Analysis_Production.ipynb\" target=\"_parent\"><img src=\"https://colab.research.google.com/assets/colab-badge.svg\" alt=\"Open In Colab\"/></a>"
      ]
    },
    {
      "cell_type": "code",
      "execution_count": null,
      "metadata": {
        "id": "rk4DPYWWhAV_"
      },
      "outputs": [],
      "source": [
        "import os\n",
        "import pandas as pd\n",
        "import matplotlib.pyplot as plt\n",
        "import seaborn as sns"
      ]
    },
    {
      "cell_type": "markdown",
      "metadata": {
        "id": "fcbDO77rhAWD"
      },
      "source": [
        "##### Merge 12 months of sales data into a single csv file "
      ]
    },
    {
      "cell_type": "code",
      "execution_count": null,
      "metadata": {
        "id": "22bLiZUuhAWG",
        "outputId": "d6661650-d6b4-4482-8e0c-8556543ec7af"
      },
      "outputs": [
        {
          "name": "stdout",
          "output_type": "stream",
          "text": [
            "all_data.csv\n",
            "Sales_April_2019.csv\n",
            "Sales_August_2019.csv\n",
            "Sales_December_2019.csv\n",
            "Sales_February_2019.csv\n",
            "Sales_January_2019.csv\n",
            "Sales_July_2019.csv\n",
            "Sales_June_2019.csv\n",
            "Sales_March_2019.csv\n",
            "Sales_May_2019.csv\n",
            "Sales_November_2019.csv\n",
            "Sales_October_2019.csv\n",
            "Sales_September_2019.csv\n"
          ]
        }
      ],
      "source": [
        "files =[file for file in os.listdir(\"Sales_Data\")]\n",
        "for file in files:\n",
        "    print(file)"
      ]
    },
    {
      "cell_type": "code",
      "execution_count": null,
      "metadata": {
        "id": "MZikOIHfhAWI",
        "outputId": "d2d1f11d-4124-44ac-a17d-99b9e2d8429e"
      },
      "outputs": [
        {
          "data": {
            "text/plain": [
              "(560550, 6)"
            ]
          },
          "execution_count": 17,
          "metadata": {},
          "output_type": "execute_result"
        }
      ],
      "source": [
        "path = \"Sales_Data/\"\n",
        "\n",
        "#blank dataframe\n",
        "all_data = pd.DataFrame()\n",
        "\n",
        "for file in files:\n",
        "    current_df = pd.read_csv(path+\"/\"+file)\n",
        "    all_data = pd.concat([all_data, current_df])\n",
        "    \n",
        "all_data.shape"
      ]
    },
    {
      "cell_type": "markdown",
      "metadata": {
        "id": "cDz7i3NehAWK"
      },
      "source": [
        "##### convert it into dataset"
      ]
    },
    {
      "cell_type": "code",
      "execution_count": null,
      "metadata": {
        "id": "TzlOJCzfhAWK"
      },
      "outputs": [],
      "source": [
        "all_data.to_csv('Sales_data/all_data.csv',index=False)"
      ]
    },
    {
      "cell_type": "markdown",
      "metadata": {
        "id": "gQHgcaDnhAWL"
      },
      "source": [
        "##### Data cleaning and formatting"
      ]
    },
    {
      "cell_type": "code",
      "execution_count": null,
      "metadata": {
        "id": "5asi_VkRhAWM",
        "outputId": "5518ac36-eb75-4fb1-cdfb-1e4edf748f27"
      },
      "outputs": [
        {
          "data": {
            "text/plain": [
              "Order ID            object\n",
              "Product             object\n",
              "Quantity Ordered    object\n",
              "Price Each          object\n",
              "Order Date          object\n",
              "Purchase Address    object\n",
              "dtype: object"
            ]
          },
          "execution_count": 19,
          "metadata": {},
          "output_type": "execute_result"
        }
      ],
      "source": [
        "all_data.dtypes"
      ]
    },
    {
      "cell_type": "code",
      "execution_count": null,
      "metadata": {
        "id": "Wy2AFcfChAWN",
        "outputId": "87ee682d-d687-4057-a971-82903dc12faf"
      },
      "outputs": [
        {
          "data": {
            "text/html": [
              "<div>\n",
              "<style scoped>\n",
              "    .dataframe tbody tr th:only-of-type {\n",
              "        vertical-align: middle;\n",
              "    }\n",
              "\n",
              "    .dataframe tbody tr th {\n",
              "        vertical-align: top;\n",
              "    }\n",
              "\n",
              "    .dataframe thead th {\n",
              "        text-align: right;\n",
              "    }\n",
              "</style>\n",
              "<table border=\"1\" class=\"dataframe\">\n",
              "  <thead>\n",
              "    <tr style=\"text-align: right;\">\n",
              "      <th></th>\n",
              "      <th>Order ID</th>\n",
              "      <th>Product</th>\n",
              "      <th>Quantity Ordered</th>\n",
              "      <th>Price Each</th>\n",
              "      <th>Order Date</th>\n",
              "      <th>Purchase Address</th>\n",
              "    </tr>\n",
              "  </thead>\n",
              "  <tbody>\n",
              "    <tr>\n",
              "      <th>0</th>\n",
              "      <td>176558</td>\n",
              "      <td>USB-C Charging Cable</td>\n",
              "      <td>2</td>\n",
              "      <td>11.95</td>\n",
              "      <td>04/19/19 08:46</td>\n",
              "      <td>917 1st St, Dallas, TX 75001</td>\n",
              "    </tr>\n",
              "    <tr>\n",
              "      <th>1</th>\n",
              "      <td>NaN</td>\n",
              "      <td>NaN</td>\n",
              "      <td>NaN</td>\n",
              "      <td>NaN</td>\n",
              "      <td>NaN</td>\n",
              "      <td>NaN</td>\n",
              "    </tr>\n",
              "    <tr>\n",
              "      <th>2</th>\n",
              "      <td>176559</td>\n",
              "      <td>Bose SoundSport Headphones</td>\n",
              "      <td>1</td>\n",
              "      <td>99.99</td>\n",
              "      <td>04/07/19 22:30</td>\n",
              "      <td>682 Chestnut St, Boston, MA 02215</td>\n",
              "    </tr>\n",
              "    <tr>\n",
              "      <th>3</th>\n",
              "      <td>176560</td>\n",
              "      <td>Google Phone</td>\n",
              "      <td>1</td>\n",
              "      <td>600</td>\n",
              "      <td>04/12/19 14:38</td>\n",
              "      <td>669 Spruce St, Los Angeles, CA 90001</td>\n",
              "    </tr>\n",
              "    <tr>\n",
              "      <th>4</th>\n",
              "      <td>176560</td>\n",
              "      <td>Wired Headphones</td>\n",
              "      <td>1</td>\n",
              "      <td>11.99</td>\n",
              "      <td>04/12/19 14:38</td>\n",
              "      <td>669 Spruce St, Los Angeles, CA 90001</td>\n",
              "    </tr>\n",
              "  </tbody>\n",
              "</table>\n",
              "</div>"
            ],
            "text/plain": [
              "  Order ID                     Product Quantity Ordered Price Each  \\\n",
              "0   176558        USB-C Charging Cable                2      11.95   \n",
              "1      NaN                         NaN              NaN        NaN   \n",
              "2   176559  Bose SoundSport Headphones                1      99.99   \n",
              "3   176560                Google Phone                1        600   \n",
              "4   176560            Wired Headphones                1      11.99   \n",
              "\n",
              "       Order Date                      Purchase Address  \n",
              "0  04/19/19 08:46          917 1st St, Dallas, TX 75001  \n",
              "1             NaN                                   NaN  \n",
              "2  04/07/19 22:30     682 Chestnut St, Boston, MA 02215  \n",
              "3  04/12/19 14:38  669 Spruce St, Los Angeles, CA 90001  \n",
              "4  04/12/19 14:38  669 Spruce St, Los Angeles, CA 90001  "
            ]
          },
          "execution_count": 20,
          "metadata": {},
          "output_type": "execute_result"
        }
      ],
      "source": [
        "all_data.head()"
      ]
    },
    {
      "cell_type": "code",
      "execution_count": null,
      "metadata": {
        "id": "Txf6RG-NhAWP",
        "outputId": "409cb2f1-dbd8-4a9a-f0ed-0b882caae2e8"
      },
      "outputs": [
        {
          "data": {
            "text/plain": [
              "Order ID            1635\n",
              "Product             1635\n",
              "Quantity Ordered    1635\n",
              "Price Each          1635\n",
              "Order Date          1635\n",
              "Purchase Address    1635\n",
              "dtype: int64"
            ]
          },
          "execution_count": 21,
          "metadata": {},
          "output_type": "execute_result"
        }
      ],
      "source": [
        "all_data.isnull().sum()"
      ]
    },
    {
      "cell_type": "code",
      "execution_count": null,
      "metadata": {
        "id": "scN9HstohAWP",
        "outputId": "cb6009e8-f770-4d2a-cbbd-65593224647a"
      },
      "outputs": [
        {
          "data": {
            "text/plain": [
              "(558915, 6)"
            ]
          },
          "execution_count": 22,
          "metadata": {},
          "output_type": "execute_result"
        }
      ],
      "source": [
        "all_data = all_data.dropna(how='all')\n",
        "all_data.shape"
      ]
    },
    {
      "cell_type": "markdown",
      "metadata": {
        "id": "GbtxLW-DhAWQ"
      },
      "source": [
        "##### What is the best month for sale?"
      ]
    },
    {
      "cell_type": "code",
      "execution_count": null,
      "metadata": {
        "id": "U1CbeFMghAWR",
        "outputId": "3b573819-6085-431b-a4c8-d55fea32dc2d"
      },
      "outputs": [
        {
          "data": {
            "text/plain": [
              "'04'"
            ]
          },
          "execution_count": 23,
          "metadata": {},
          "output_type": "execute_result"
        }
      ],
      "source": [
        "'04/19/19 08:46'.split('/')[0]"
      ]
    },
    {
      "cell_type": "code",
      "execution_count": null,
      "metadata": {
        "id": "3RSUM9CShAWR"
      },
      "outputs": [],
      "source": [
        "def month(x):\n",
        "    return x.split('/')[0]"
      ]
    },
    {
      "cell_type": "markdown",
      "metadata": {
        "id": "yiLjzTvPhAWS"
      },
      "source": [
        "##### add month col"
      ]
    },
    {
      "cell_type": "code",
      "execution_count": null,
      "metadata": {
        "id": "Ii62DuVIhAWS"
      },
      "outputs": [],
      "source": [
        "all_data['Month']=all_data['Order Date'].apply(month)"
      ]
    },
    {
      "cell_type": "code",
      "execution_count": null,
      "metadata": {
        "id": "V7kglQ-VhAWT",
        "outputId": "07b5dbce-350b-47ec-e357-ac70bc6ca5b7"
      },
      "outputs": [
        {
          "data": {
            "text/plain": [
              "Order ID            object\n",
              "Product             object\n",
              "Quantity Ordered    object\n",
              "Price Each          object\n",
              "Order Date          object\n",
              "Purchase Address    object\n",
              "Month               object\n",
              "dtype: object"
            ]
          },
          "execution_count": 26,
          "metadata": {},
          "output_type": "execute_result"
        }
      ],
      "source": [
        "all_data.dtypes"
      ]
    },
    {
      "cell_type": "code",
      "execution_count": null,
      "metadata": {
        "id": "-z20jqZjhAWT"
      },
      "outputs": [],
      "source": [
        "all_data['Month']=all_data['Month'].astype('int')"
      ]
    },
    {
      "cell_type": "code",
      "execution_count": null,
      "metadata": {
        "id": "DgiAo1P-hAWU",
        "outputId": "9193f28f-d07f-46f5-8680-02435cc7ab4e"
      },
      "outputs": [
        {
          "data": {
            "text/plain": [
              "array([ 4,  5,  8,  9, 12,  1,  2,  3,  7,  6, 11, 10])"
            ]
          },
          "execution_count": 65,
          "metadata": {},
          "output_type": "execute_result"
        }
      ],
      "source": [
        "all_data['Month'].unique()"
      ]
    },
    {
      "cell_type": "code",
      "execution_count": null,
      "metadata": {
        "id": "ak5JH-dvhAWU",
        "outputId": "a6713ff3-44e7-4e03-bdea-11584e6eefeb"
      },
      "outputs": [
        {
          "data": {
            "text/plain": [
              "557850"
            ]
          },
          "execution_count": 66,
          "metadata": {},
          "output_type": "execute_result"
        }
      ],
      "source": [
        "filter=all_data['Month']=='Order Date'\n",
        "len(all_data[~filter])"
      ]
    },
    {
      "cell_type": "code",
      "execution_count": null,
      "metadata": {
        "id": "znBPJI24hAWV"
      },
      "outputs": [],
      "source": [
        "all_data=all_data[~filter]"
      ]
    },
    {
      "cell_type": "code",
      "execution_count": null,
      "metadata": {
        "id": "st7UvYDChAWV",
        "outputId": "e197710d-a10d-4e0a-8b1b-4e187b0f3e9a"
      },
      "outputs": [
        {
          "data": {
            "text/plain": [
              "(557850, 10)"
            ]
          },
          "execution_count": 68,
          "metadata": {},
          "output_type": "execute_result"
        }
      ],
      "source": [
        "all_data.shape"
      ]
    },
    {
      "cell_type": "code",
      "execution_count": null,
      "metadata": {
        "id": "mMr5mHHVhAWW",
        "outputId": "7d9ef995-41d8-4698-a586-4711cd122cbb"
      },
      "outputs": [
        {
          "data": {
            "text/html": [
              "<div>\n",
              "<style scoped>\n",
              "    .dataframe tbody tr th:only-of-type {\n",
              "        vertical-align: middle;\n",
              "    }\n",
              "\n",
              "    .dataframe tbody tr th {\n",
              "        vertical-align: top;\n",
              "    }\n",
              "\n",
              "    .dataframe thead th {\n",
              "        text-align: right;\n",
              "    }\n",
              "</style>\n",
              "<table border=\"1\" class=\"dataframe\">\n",
              "  <thead>\n",
              "    <tr style=\"text-align: right;\">\n",
              "      <th></th>\n",
              "      <th>Order ID</th>\n",
              "      <th>Product</th>\n",
              "      <th>Quantity Ordered</th>\n",
              "      <th>Price Each</th>\n",
              "      <th>Order Date</th>\n",
              "      <th>Purchase Address</th>\n",
              "      <th>Month</th>\n",
              "      <th>sales</th>\n",
              "      <th>city</th>\n",
              "      <th>Hour</th>\n",
              "    </tr>\n",
              "  </thead>\n",
              "  <tbody>\n",
              "    <tr>\n",
              "      <th>0</th>\n",
              "      <td>176558</td>\n",
              "      <td>USB-C Charging Cable</td>\n",
              "      <td>2</td>\n",
              "      <td>11.95</td>\n",
              "      <td>04/19/19 08:46</td>\n",
              "      <td>917 1st St, Dallas, TX 75001</td>\n",
              "      <td>4</td>\n",
              "      <td>23.90</td>\n",
              "      <td>Dallas</td>\n",
              "      <td>8</td>\n",
              "    </tr>\n",
              "    <tr>\n",
              "      <th>2</th>\n",
              "      <td>176559</td>\n",
              "      <td>Bose SoundSport Headphones</td>\n",
              "      <td>1</td>\n",
              "      <td>99.99</td>\n",
              "      <td>04/07/19 22:30</td>\n",
              "      <td>682 Chestnut St, Boston, MA 02215</td>\n",
              "      <td>4</td>\n",
              "      <td>99.99</td>\n",
              "      <td>Boston</td>\n",
              "      <td>22</td>\n",
              "    </tr>\n",
              "    <tr>\n",
              "      <th>3</th>\n",
              "      <td>176560</td>\n",
              "      <td>Google Phone</td>\n",
              "      <td>1</td>\n",
              "      <td>600.00</td>\n",
              "      <td>04/12/19 14:38</td>\n",
              "      <td>669 Spruce St, Los Angeles, CA 90001</td>\n",
              "      <td>4</td>\n",
              "      <td>600.00</td>\n",
              "      <td>Los Angeles</td>\n",
              "      <td>14</td>\n",
              "    </tr>\n",
              "    <tr>\n",
              "      <th>4</th>\n",
              "      <td>176560</td>\n",
              "      <td>Wired Headphones</td>\n",
              "      <td>1</td>\n",
              "      <td>11.99</td>\n",
              "      <td>04/12/19 14:38</td>\n",
              "      <td>669 Spruce St, Los Angeles, CA 90001</td>\n",
              "      <td>4</td>\n",
              "      <td>11.99</td>\n",
              "      <td>Los Angeles</td>\n",
              "      <td>14</td>\n",
              "    </tr>\n",
              "    <tr>\n",
              "      <th>5</th>\n",
              "      <td>176561</td>\n",
              "      <td>Wired Headphones</td>\n",
              "      <td>1</td>\n",
              "      <td>11.99</td>\n",
              "      <td>04/30/19 09:27</td>\n",
              "      <td>333 8th St, Los Angeles, CA 90001</td>\n",
              "      <td>4</td>\n",
              "      <td>11.99</td>\n",
              "      <td>Los Angeles</td>\n",
              "      <td>9</td>\n",
              "    </tr>\n",
              "  </tbody>\n",
              "</table>\n",
              "</div>"
            ],
            "text/plain": [
              "  Order ID                     Product  Quantity Ordered  Price Each  \\\n",
              "0   176558        USB-C Charging Cable                 2       11.95   \n",
              "2   176559  Bose SoundSport Headphones                 1       99.99   \n",
              "3   176560                Google Phone                 1      600.00   \n",
              "4   176560            Wired Headphones                 1       11.99   \n",
              "5   176561            Wired Headphones                 1       11.99   \n",
              "\n",
              "       Order Date                      Purchase Address  Month   sales  \\\n",
              "0  04/19/19 08:46          917 1st St, Dallas, TX 75001      4   23.90   \n",
              "2  04/07/19 22:30     682 Chestnut St, Boston, MA 02215      4   99.99   \n",
              "3  04/12/19 14:38  669 Spruce St, Los Angeles, CA 90001      4  600.00   \n",
              "4  04/12/19 14:38  669 Spruce St, Los Angeles, CA 90001      4   11.99   \n",
              "5  04/30/19 09:27     333 8th St, Los Angeles, CA 90001      4   11.99   \n",
              "\n",
              "           city  Hour  \n",
              "0        Dallas     8  \n",
              "2        Boston    22  \n",
              "3   Los Angeles    14  \n",
              "4   Los Angeles    14  \n",
              "5   Los Angeles     9  "
            ]
          },
          "execution_count": 69,
          "metadata": {},
          "output_type": "execute_result"
        }
      ],
      "source": [
        "all_data.head()"
      ]
    },
    {
      "cell_type": "code",
      "execution_count": null,
      "metadata": {
        "id": "vYenf3gdhAWX"
      },
      "outputs": [],
      "source": [
        "all_data['Month']=all_data['Month'].astype(int)"
      ]
    },
    {
      "cell_type": "code",
      "execution_count": null,
      "metadata": {
        "id": "s4H60L7ThAWX",
        "outputId": "5ac65c94-7f1e-440a-d79d-1216f3ea6056"
      },
      "outputs": [
        {
          "data": {
            "text/plain": [
              "Order ID             object\n",
              "Product              object\n",
              "Quantity Ordered      int32\n",
              "Price Each          float64\n",
              "Order Date           object\n",
              "Purchase Address     object\n",
              "Month                 int32\n",
              "sales               float64\n",
              "city                 object\n",
              "Hour                  int64\n",
              "dtype: object"
            ]
          },
          "execution_count": 71,
          "metadata": {},
          "output_type": "execute_result"
        }
      ],
      "source": [
        "all_data.dtypes"
      ]
    },
    {
      "cell_type": "code",
      "execution_count": null,
      "metadata": {
        "id": "iz2m-QmChAWX"
      },
      "outputs": [],
      "source": [
        "all_data['Price Each']=all_data['Price Each'].astype(float)"
      ]
    },
    {
      "cell_type": "code",
      "execution_count": null,
      "metadata": {
        "id": "4hS9HOX8hAWX"
      },
      "outputs": [],
      "source": [
        "all_data['Quantity Ordered']=all_data['Quantity Ordered'].astype(int)"
      ]
    },
    {
      "cell_type": "code",
      "execution_count": null,
      "metadata": {
        "id": "DchetT-4hAWY",
        "outputId": "850174f8-e04d-4ec0-f8c6-d16470ad73d7"
      },
      "outputs": [
        {
          "data": {
            "text/html": [
              "<div>\n",
              "<style scoped>\n",
              "    .dataframe tbody tr th:only-of-type {\n",
              "        vertical-align: middle;\n",
              "    }\n",
              "\n",
              "    .dataframe tbody tr th {\n",
              "        vertical-align: top;\n",
              "    }\n",
              "\n",
              "    .dataframe thead th {\n",
              "        text-align: right;\n",
              "    }\n",
              "</style>\n",
              "<table border=\"1\" class=\"dataframe\">\n",
              "  <thead>\n",
              "    <tr style=\"text-align: right;\">\n",
              "      <th></th>\n",
              "      <th>Order ID</th>\n",
              "      <th>Product</th>\n",
              "      <th>Quantity Ordered</th>\n",
              "      <th>Price Each</th>\n",
              "      <th>Order Date</th>\n",
              "      <th>Purchase Address</th>\n",
              "      <th>Month</th>\n",
              "      <th>sales</th>\n",
              "      <th>city</th>\n",
              "      <th>Hour</th>\n",
              "    </tr>\n",
              "  </thead>\n",
              "  <tbody>\n",
              "    <tr>\n",
              "      <th>0</th>\n",
              "      <td>176558</td>\n",
              "      <td>USB-C Charging Cable</td>\n",
              "      <td>2</td>\n",
              "      <td>11.95</td>\n",
              "      <td>04/19/19 08:46</td>\n",
              "      <td>917 1st St, Dallas, TX 75001</td>\n",
              "      <td>4</td>\n",
              "      <td>23.90</td>\n",
              "      <td>Dallas</td>\n",
              "      <td>8</td>\n",
              "    </tr>\n",
              "    <tr>\n",
              "      <th>2</th>\n",
              "      <td>176559</td>\n",
              "      <td>Bose SoundSport Headphones</td>\n",
              "      <td>1</td>\n",
              "      <td>99.99</td>\n",
              "      <td>04/07/19 22:30</td>\n",
              "      <td>682 Chestnut St, Boston, MA 02215</td>\n",
              "      <td>4</td>\n",
              "      <td>99.99</td>\n",
              "      <td>Boston</td>\n",
              "      <td>22</td>\n",
              "    </tr>\n",
              "    <tr>\n",
              "      <th>3</th>\n",
              "      <td>176560</td>\n",
              "      <td>Google Phone</td>\n",
              "      <td>1</td>\n",
              "      <td>600.00</td>\n",
              "      <td>04/12/19 14:38</td>\n",
              "      <td>669 Spruce St, Los Angeles, CA 90001</td>\n",
              "      <td>4</td>\n",
              "      <td>600.00</td>\n",
              "      <td>Los Angeles</td>\n",
              "      <td>14</td>\n",
              "    </tr>\n",
              "    <tr>\n",
              "      <th>4</th>\n",
              "      <td>176560</td>\n",
              "      <td>Wired Headphones</td>\n",
              "      <td>1</td>\n",
              "      <td>11.99</td>\n",
              "      <td>04/12/19 14:38</td>\n",
              "      <td>669 Spruce St, Los Angeles, CA 90001</td>\n",
              "      <td>4</td>\n",
              "      <td>11.99</td>\n",
              "      <td>Los Angeles</td>\n",
              "      <td>14</td>\n",
              "    </tr>\n",
              "    <tr>\n",
              "      <th>5</th>\n",
              "      <td>176561</td>\n",
              "      <td>Wired Headphones</td>\n",
              "      <td>1</td>\n",
              "      <td>11.99</td>\n",
              "      <td>04/30/19 09:27</td>\n",
              "      <td>333 8th St, Los Angeles, CA 90001</td>\n",
              "      <td>4</td>\n",
              "      <td>11.99</td>\n",
              "      <td>Los Angeles</td>\n",
              "      <td>9</td>\n",
              "    </tr>\n",
              "  </tbody>\n",
              "</table>\n",
              "</div>"
            ],
            "text/plain": [
              "  Order ID                     Product  Quantity Ordered  Price Each  \\\n",
              "0   176558        USB-C Charging Cable                 2       11.95   \n",
              "2   176559  Bose SoundSport Headphones                 1       99.99   \n",
              "3   176560                Google Phone                 1      600.00   \n",
              "4   176560            Wired Headphones                 1       11.99   \n",
              "5   176561            Wired Headphones                 1       11.99   \n",
              "\n",
              "       Order Date                      Purchase Address  Month   sales  \\\n",
              "0  04/19/19 08:46          917 1st St, Dallas, TX 75001      4   23.90   \n",
              "2  04/07/19 22:30     682 Chestnut St, Boston, MA 02215      4   99.99   \n",
              "3  04/12/19 14:38  669 Spruce St, Los Angeles, CA 90001      4  600.00   \n",
              "4  04/12/19 14:38  669 Spruce St, Los Angeles, CA 90001      4   11.99   \n",
              "5  04/30/19 09:27     333 8th St, Los Angeles, CA 90001      4   11.99   \n",
              "\n",
              "           city  Hour  \n",
              "0        Dallas     8  \n",
              "2        Boston    22  \n",
              "3   Los Angeles    14  \n",
              "4   Los Angeles    14  \n",
              "5   Los Angeles     9  "
            ]
          },
          "execution_count": 74,
          "metadata": {},
          "output_type": "execute_result"
        }
      ],
      "source": [
        "all_data['sales']=all_data['Quantity Ordered']*all_data['Price Each']\n",
        "all_data.head(5)"
      ]
    },
    {
      "cell_type": "code",
      "execution_count": null,
      "metadata": {
        "id": "F26ussKQhAWY",
        "outputId": "372f6f52-c1e6-4810-f29f-077ea9c28803"
      },
      "outputs": [
        {
          "data": {
            "text/plain": [
              "Month\n",
              "1      5466770.19\n",
              "2      6606067.26\n",
              "3      8421301.14\n",
              "4     10172010.72\n",
              "5      9457820.25\n",
              "6      7733406.78\n",
              "7      7943327.28\n",
              "8      6733403.64\n",
              "9      6292680.39\n",
              "10    11210180.64\n",
              "11     9598809.60\n",
              "12    13840330.02\n",
              "Name: sales, dtype: float64"
            ]
          },
          "execution_count": 75,
          "metadata": {},
          "output_type": "execute_result"
        }
      ],
      "source": [
        "all_data.groupby('Month')['sales'].sum()"
      ]
    },
    {
      "cell_type": "code",
      "execution_count": null,
      "metadata": {
        "id": "9J8_iIZyhAWY",
        "outputId": "3e5bab50-f598-477e-8ff6-48ff2d23a6f8"
      },
      "outputs": [
        {
          "data": {
            "image/png": "[encoded data removed]",
            "text/plain": [
              "<Figure size 432x288 with 1 Axes>"
            ]
          },
          "metadata": {
            "needs_background": "light"
          },
          "output_type": "display_data"
        }
      ],
      "source": [
        "months=range(1,13)\n",
        "plt.bar(months,all_data.groupby('Month')['sales'].sum())\n",
        "plt.xticks(months)\n",
        "plt.ylabel('Sales in USD ($)')\n",
        "plt.xlabel('Month number')\n",
        "plt.show()"
      ]
    },
    {
      "cell_type": "markdown",
      "metadata": {
        "id": "nzI_EQlNhAWZ"
      },
      "source": [
        "##### Which city has max order"
      ]
    },
    {
      "cell_type": "code",
      "execution_count": null,
      "metadata": {
        "id": "jpgzyGOChAWZ",
        "outputId": "bfddfa4b-f441-4e68-f09e-5d2c17225384"
      },
      "outputs": [
        {
          "data": {
            "text/plain": [
              "' Dallas'"
            ]
          },
          "execution_count": 77,
          "metadata": {},
          "output_type": "execute_result"
        }
      ],
      "source": [
        "'917 1st St, Dallas, TX 75001'.split(',')[1]"
      ]
    },
    {
      "cell_type": "code",
      "execution_count": null,
      "metadata": {
        "id": "_P-LW9yOhAWZ"
      },
      "outputs": [],
      "source": [
        "def city(x):\n",
        "    return x.split(',')[1]"
      ]
    },
    {
      "cell_type": "code",
      "execution_count": null,
      "metadata": {
        "id": "D4v6fz_UhAWa"
      },
      "outputs": [],
      "source": [
        "all_data['city']=all_data['Purchase Address'].apply(city)"
      ]
    },
    {
      "cell_type": "code",
      "execution_count": null,
      "metadata": {
        "id": "_ZnEBdOChAWa",
        "outputId": "e6331cfd-eb66-4421-a493-2ac8c910436b"
      },
      "outputs": [
        {
          "data": {
            "text/plain": [
              "city\n",
              " Atlanta           44643\n",
              " Austin            29715\n",
              " Boston            59802\n",
              " Dallas            44460\n",
              " Los Angeles       88815\n",
              " New York City     74628\n",
              " Portland          37395\n",
              " San Francisco    134196\n",
              " Seattle           44196\n",
              "Name: city, dtype: int64"
            ]
          },
          "execution_count": 80,
          "metadata": {},
          "output_type": "execute_result"
        }
      ],
      "source": [
        "all_data.groupby('city')['city'].count()"
      ]
    },
    {
      "cell_type": "code",
      "execution_count": null,
      "metadata": {
        "id": "tYpBIV6qhAWa",
        "outputId": "d28e5967-ea1d-49f9-8ebc-dce5bcddc7e9"
      },
      "outputs": [
        {
          "data": {
            "image/png": "[encoded data removed]",
            "text/plain": [
              "<Figure size 432x288 with 1 Axes>"
            ]
          },
          "metadata": {
            "needs_background": "light"
          },
          "output_type": "display_data"
        }
      ],
      "source": [
        "plt.bar(all_data.groupby('city')['city'].count().index,all_data.groupby('city')['city'].count())\n",
        "plt.xticks(rotation='vertical')\n",
        "plt.ylabel('received orders')\n",
        "plt.xlabel('city names')\n",
        "plt.show()"
      ]
    },
    {
      "cell_type": "code",
      "execution_count": null,
      "metadata": {
        "id": "1CCLrjxahAWb"
      },
      "outputs": [],
      "source": [
        ""
      ]
    },
    {
      "cell_type": "markdown",
      "metadata": {
        "id": "9W4_t9kmhAWb"
      },
      "source": [
        "##### What time should we display advertisements to maximise for product purchase?"
      ]
    },
    {
      "cell_type": "code",
      "execution_count": null,
      "metadata": {
        "id": "GkORs1cjhAWb"
      },
      "outputs": [],
      "source": [
        ""
      ]
    },
    {
      "cell_type": "code",
      "execution_count": null,
      "metadata": {
        "id": "0L_GHwN-hAWb",
        "outputId": "d5ed0de0-814c-4497-94aa-85eda62b3c86"
      },
      "outputs": [
        {
          "data": {
            "text/plain": [
              "dtype('O')"
            ]
          },
          "execution_count": 82,
          "metadata": {},
          "output_type": "execute_result"
        }
      ],
      "source": [
        "all_data['Order Date'][0].dtype"
      ]
    },
    {
      "cell_type": "code",
      "execution_count": null,
      "metadata": {
        "id": "GA6-9w_vhAWb"
      },
      "outputs": [],
      "source": [
        "all_data['Hour'] = pd.to_datetime(all_data['Order Date']).dt.hour"
      ]
    },
    {
      "cell_type": "code",
      "execution_count": null,
      "metadata": {
        "id": "kot6dCB1hAWc"
      },
      "outputs": [],
      "source": [
        "keys=[]\n",
        "hour=[]\n",
        "for key,hour_df in all_data.groupby('Hour'):\n",
        "    keys.append(key)\n",
        "    hour.append(len(hour_df))"
      ]
    },
    {
      "cell_type": "code",
      "execution_count": null,
      "metadata": {
        "id": "NdZmr1mXhAWc",
        "outputId": "8caf0ffe-130c-4f5c-ef98-b0925baceb37"
      },
      "outputs": [
        {
          "data": {
            "text/plain": [
              "[<matplotlib.lines.Line2D at 0x17b5cb01040>]"
            ]
          },
          "execution_count": 85,
          "metadata": {},
          "output_type": "execute_result"
        },
        {
          "data": {
            "image/png": "[encoded data removed]",
            "text/plain": [
              "<Figure size 432x288 with 1 Axes>"
            ]
          },
          "metadata": {
            "needs_background": "light"
          },
          "output_type": "display_data"
        }
      ],
      "source": [
        "plt.grid()\n",
        "plt.plot(keys,hour)"
      ]
    },
    {
      "cell_type": "markdown",
      "metadata": {
        "id": "Q1OFuItLhAWc"
      },
      "source": [
        "##### between 12pm and 7pm is probably the best time to advertise to maximise product purchase"
      ]
    },
    {
      "cell_type": "code",
      "execution_count": null,
      "metadata": {
        "id": "HUB5WCw-hAWc"
      },
      "outputs": [],
      "source": [
        ""
      ]
    },
    {
      "cell_type": "markdown",
      "metadata": {
        "id": "E-I4dP4phAWc"
      },
      "source": [
        "#### What product sold the most? &  Why?"
      ]
    },
    {
      "cell_type": "code",
      "execution_count": null,
      "metadata": {
        "id": "eJ-vthsThAWd",
        "outputId": "b6cf237c-da9d-4d33-ead2-6f19be13f67d"
      },
      "outputs": [
        {
          "data": {
            "text/plain": [
              "<AxesSubplot:xlabel='Product'>"
            ]
          },
          "execution_count": 86,
          "metadata": {},
          "output_type": "execute_result"
        },
        {
          "data": {
            "image/png": "[encoded data removed]",
            "text/plain": [
              "<Figure size 432x288 with 1 Axes>"
            ]
          },
          "metadata": {
            "needs_background": "light"
          },
          "output_type": "display_data"
        }
      ],
      "source": [
        "all_data.groupby('Product')['Quantity Ordered'].sum().plot(kind='bar')"
      ]
    },
    {
      "cell_type": "code",
      "execution_count": null,
      "metadata": {
        "id": "r5l0tIuThAWd",
        "outputId": "5b705296-b169-4635-d801-e2f62cead1bc"
      },
      "outputs": [
        {
          "data": {
            "text/plain": [
              "Product\n",
              "20in Monitor                   109.99\n",
              "27in 4K Gaming Monitor         389.99\n",
              "27in FHD Monitor               149.99\n",
              "34in Ultrawide Monitor         379.99\n",
              "AA Batteries (4-pack)            3.84\n",
              "AAA Batteries (4-pack)           2.99\n",
              "Apple Airpods Headphones       150.00\n",
              "Bose SoundSport Headphones      99.99\n",
              "Flatscreen TV                  300.00\n",
              "Google Phone                   600.00\n",
              "LG Dryer                       600.00\n",
              "LG Washing Machine             600.00\n",
              "Lightning Charging Cable        14.95\n",
              "Macbook Pro Laptop            1700.00\n",
              "ThinkPad Laptop                999.99\n",
              "USB-C Charging Cable            11.95\n",
              "Vareebadd Phone                400.00\n",
              "Wired Headphones                11.99\n",
              "iPhone                         700.00\n",
              "Name: Price Each, dtype: float64"
            ]
          },
          "execution_count": 87,
          "metadata": {},
          "output_type": "execute_result"
        }
      ],
      "source": [
        "all_data.groupby('Product')['Price Each'].mean()"
      ]
    },
    {
      "cell_type": "code",
      "execution_count": null,
      "metadata": {
        "id": "IHrQ6FKJhAWd"
      },
      "outputs": [],
      "source": [
        "products=all_data.groupby('Product')['Quantity Ordered'].sum().index\n",
        "quantity=all_data.groupby('Product')['Quantity Ordered'].sum()\n",
        "prices=all_data.groupby('Product')['Price Each'].mean()"
      ]
    },
    {
      "cell_type": "code",
      "execution_count": null,
      "metadata": {
        "id": "Z6SM8mvThAWe",
        "outputId": "b89be315-799d-49c3-bf16-3c2abf85c6c8"
      },
      "outputs": [
        {
          "name": "stderr",
          "output_type": "stream",
          "text": [
            "C:\\Users\\CDEVRY~1\\AppData\\Local\\Temp/ipykernel_15484/2263540929.py:6: UserWarning:\n",
            "\n",
            "FixedFormatter should only be used together with FixedLocator\n",
            "\n"
          ]
        },
        {
          "data": {
            "text/plain": [
              "[Text(0, 0, '20in Monitor'),\n",
              " Text(1, 0, '27in 4K Gaming Monitor'),\n",
              " Text(2, 0, '27in FHD Monitor'),\n",
              " Text(3, 0, '34in Ultrawide Monitor'),\n",
              " Text(4, 0, 'AA Batteries (4-pack)'),\n",
              " Text(5, 0, 'AAA Batteries (4-pack)'),\n",
              " Text(6, 0, 'Apple Airpods Headphones'),\n",
              " Text(7, 0, 'Bose SoundSport Headphones'),\n",
              " Text(8, 0, 'Flatscreen TV'),\n",
              " Text(9, 0, 'Google Phone'),\n",
              " Text(10, 0, 'LG Dryer'),\n",
              " Text(11, 0, 'LG Washing Machine'),\n",
              " Text(12, 0, 'Lightning Charging Cable'),\n",
              " Text(13, 0, 'Macbook Pro Laptop'),\n",
              " Text(14, 0, 'ThinkPad Laptop'),\n",
              " Text(15, 0, 'USB-C Charging Cable'),\n",
              " Text(16, 0, 'Vareebadd Phone'),\n",
              " Text(17, 0, 'Wired Headphones'),\n",
              " Text(18, 0, 'iPhone')]"
            ]
          },
          "execution_count": 89,
          "metadata": {},
          "output_type": "execute_result"
        },
        {
          "data": {
            "text/plain": [
              "<Figure size 2880x1728 with 0 Axes>"
            ]
          },
          "metadata": {},
          "output_type": "display_data"
        },
        {
          "data": {
            "image/png": "[encoded data removed]",
            "text/plain": [
              "<Figure size 432x288 with 2 Axes>"
            ]
          },
          "metadata": {
            "needs_background": "light"
          },
          "output_type": "display_data"
        }
      ],
      "source": [
        "plt.figure(figsize=(40,24))\n",
        "fig,ax1 = plt.subplots()\n",
        "ax2=ax1.twinx()\n",
        "ax1.bar(products, quantity, color='g')\n",
        "ax2.plot(products, prices, 'b-')\n",
        "ax1.set_xticklabels(products, rotation='vertical', size=8)"
      ]
    },
    {
      "cell_type": "markdown",
      "metadata": {
        "id": "Ix2ezrvshAWe"
      },
      "source": [
        "##### The top selling product is 'AAA Batteries'. The top selling products seem to have a correlation with the price of the product. The cheaper the product higher the quantity ordered and vice versa."
      ]
    },
    {
      "cell_type": "code",
      "execution_count": null,
      "metadata": {
        "id": "qA8BXy3ChAWe",
        "outputId": "aae5eabc-4f98-42ce-f423-2b80f75cb67e"
      },
      "outputs": [
        {
          "data": {
            "text/plain": [
              "(557850, 10)"
            ]
          },
          "execution_count": 90,
          "metadata": {},
          "output_type": "execute_result"
        }
      ],
      "source": [
        "all_data.shape"
      ]
    },
    {
      "cell_type": "markdown",
      "metadata": {
        "id": "_tEuPNrihAWf"
      },
      "source": [
        "##### What products are most often sold together?"
      ]
    },
    {
      "cell_type": "markdown",
      "metadata": {
        "id": "lJZIGGNwhAWf"
      },
      "source": [
        "#### note: keep orders that have same order Id,are sold mostly together"
      ]
    },
    {
      "cell_type": "code",
      "execution_count": null,
      "metadata": {
        "id": "WS5aKMeghAWf",
        "outputId": "1b77ec99-577c-459f-e8d9-0fb8d3c99736"
      },
      "outputs": [
        {
          "data": {
            "text/html": [
              "<div>\n",
              "<style scoped>\n",
              "    .dataframe tbody tr th:only-of-type {\n",
              "        vertical-align: middle;\n",
              "    }\n",
              "\n",
              "    .dataframe tbody tr th {\n",
              "        vertical-align: top;\n",
              "    }\n",
              "\n",
              "    .dataframe thead th {\n",
              "        text-align: right;\n",
              "    }\n",
              "</style>\n",
              "<table border=\"1\" class=\"dataframe\">\n",
              "  <thead>\n",
              "    <tr style=\"text-align: right;\">\n",
              "      <th></th>\n",
              "      <th>Order ID</th>\n",
              "      <th>Product</th>\n",
              "      <th>Quantity Ordered</th>\n",
              "      <th>Price Each</th>\n",
              "      <th>Order Date</th>\n",
              "      <th>Purchase Address</th>\n",
              "      <th>Month</th>\n",
              "      <th>sales</th>\n",
              "      <th>city</th>\n",
              "      <th>Hour</th>\n",
              "    </tr>\n",
              "  </thead>\n",
              "  <tbody>\n",
              "    <tr>\n",
              "      <th>0</th>\n",
              "      <td>176558</td>\n",
              "      <td>USB-C Charging Cable</td>\n",
              "      <td>2</td>\n",
              "      <td>11.95</td>\n",
              "      <td>04/19/19 08:46</td>\n",
              "      <td>917 1st St, Dallas, TX 75001</td>\n",
              "      <td>4</td>\n",
              "      <td>23.90</td>\n",
              "      <td>Dallas</td>\n",
              "      <td>8</td>\n",
              "    </tr>\n",
              "    <tr>\n",
              "      <th>2</th>\n",
              "      <td>176559</td>\n",
              "      <td>Bose SoundSport Headphones</td>\n",
              "      <td>1</td>\n",
              "      <td>99.99</td>\n",
              "      <td>04/07/19 22:30</td>\n",
              "      <td>682 Chestnut St, Boston, MA 02215</td>\n",
              "      <td>4</td>\n",
              "      <td>99.99</td>\n",
              "      <td>Boston</td>\n",
              "      <td>22</td>\n",
              "    </tr>\n",
              "    <tr>\n",
              "      <th>3</th>\n",
              "      <td>176560</td>\n",
              "      <td>Google Phone</td>\n",
              "      <td>1</td>\n",
              "      <td>600.00</td>\n",
              "      <td>04/12/19 14:38</td>\n",
              "      <td>669 Spruce St, Los Angeles, CA 90001</td>\n",
              "      <td>4</td>\n",
              "      <td>600.00</td>\n",
              "      <td>Los Angeles</td>\n",
              "      <td>14</td>\n",
              "    </tr>\n",
              "    <tr>\n",
              "      <th>4</th>\n",
              "      <td>176560</td>\n",
              "      <td>Wired Headphones</td>\n",
              "      <td>1</td>\n",
              "      <td>11.99</td>\n",
              "      <td>04/12/19 14:38</td>\n",
              "      <td>669 Spruce St, Los Angeles, CA 90001</td>\n",
              "      <td>4</td>\n",
              "      <td>11.99</td>\n",
              "      <td>Los Angeles</td>\n",
              "      <td>14</td>\n",
              "    </tr>\n",
              "    <tr>\n",
              "      <th>5</th>\n",
              "      <td>176561</td>\n",
              "      <td>Wired Headphones</td>\n",
              "      <td>1</td>\n",
              "      <td>11.99</td>\n",
              "      <td>04/30/19 09:27</td>\n",
              "      <td>333 8th St, Los Angeles, CA 90001</td>\n",
              "      <td>4</td>\n",
              "      <td>11.99</td>\n",
              "      <td>Los Angeles</td>\n",
              "      <td>9</td>\n",
              "    </tr>\n",
              "    <tr>\n",
              "      <th>6</th>\n",
              "      <td>176562</td>\n",
              "      <td>USB-C Charging Cable</td>\n",
              "      <td>1</td>\n",
              "      <td>11.95</td>\n",
              "      <td>04/29/19 13:03</td>\n",
              "      <td>381 Wilson St, San Francisco, CA 94016</td>\n",
              "      <td>4</td>\n",
              "      <td>11.95</td>\n",
              "      <td>San Francisco</td>\n",
              "      <td>13</td>\n",
              "    </tr>\n",
              "    <tr>\n",
              "      <th>7</th>\n",
              "      <td>176563</td>\n",
              "      <td>Bose SoundSport Headphones</td>\n",
              "      <td>1</td>\n",
              "      <td>99.99</td>\n",
              "      <td>04/02/19 07:46</td>\n",
              "      <td>668 Center St, Seattle, WA 98101</td>\n",
              "      <td>4</td>\n",
              "      <td>99.99</td>\n",
              "      <td>Seattle</td>\n",
              "      <td>7</td>\n",
              "    </tr>\n",
              "    <tr>\n",
              "      <th>8</th>\n",
              "      <td>176564</td>\n",
              "      <td>USB-C Charging Cable</td>\n",
              "      <td>1</td>\n",
              "      <td>11.95</td>\n",
              "      <td>04/12/19 10:58</td>\n",
              "      <td>790 Ridge St, Atlanta, GA 30301</td>\n",
              "      <td>4</td>\n",
              "      <td>11.95</td>\n",
              "      <td>Atlanta</td>\n",
              "      <td>10</td>\n",
              "    </tr>\n",
              "    <tr>\n",
              "      <th>9</th>\n",
              "      <td>176565</td>\n",
              "      <td>Macbook Pro Laptop</td>\n",
              "      <td>1</td>\n",
              "      <td>1700.00</td>\n",
              "      <td>04/24/19 10:38</td>\n",
              "      <td>915 Willow St, San Francisco, CA 94016</td>\n",
              "      <td>4</td>\n",
              "      <td>1700.00</td>\n",
              "      <td>San Francisco</td>\n",
              "      <td>10</td>\n",
              "    </tr>\n",
              "    <tr>\n",
              "      <th>10</th>\n",
              "      <td>176566</td>\n",
              "      <td>Wired Headphones</td>\n",
              "      <td>1</td>\n",
              "      <td>11.99</td>\n",
              "      <td>04/08/19 14:05</td>\n",
              "      <td>83 7th St, Boston, MA 02215</td>\n",
              "      <td>4</td>\n",
              "      <td>11.99</td>\n",
              "      <td>Boston</td>\n",
              "      <td>14</td>\n",
              "    </tr>\n",
              "    <tr>\n",
              "      <th>11</th>\n",
              "      <td>176567</td>\n",
              "      <td>Google Phone</td>\n",
              "      <td>1</td>\n",
              "      <td>600.00</td>\n",
              "      <td>04/18/19 17:18</td>\n",
              "      <td>444 7th St, Los Angeles, CA 90001</td>\n",
              "      <td>4</td>\n",
              "      <td>600.00</td>\n",
              "      <td>Los Angeles</td>\n",
              "      <td>17</td>\n",
              "    </tr>\n",
              "    <tr>\n",
              "      <th>12</th>\n",
              "      <td>176568</td>\n",
              "      <td>Lightning Charging Cable</td>\n",
              "      <td>1</td>\n",
              "      <td>14.95</td>\n",
              "      <td>04/15/19 12:18</td>\n",
              "      <td>438 Elm St, Seattle, WA 98101</td>\n",
              "      <td>4</td>\n",
              "      <td>14.95</td>\n",
              "      <td>Seattle</td>\n",
              "      <td>12</td>\n",
              "    </tr>\n",
              "    <tr>\n",
              "      <th>13</th>\n",
              "      <td>176569</td>\n",
              "      <td>27in 4K Gaming Monitor</td>\n",
              "      <td>1</td>\n",
              "      <td>389.99</td>\n",
              "      <td>04/16/19 19:23</td>\n",
              "      <td>657 Hill St, Dallas, TX 75001</td>\n",
              "      <td>4</td>\n",
              "      <td>389.99</td>\n",
              "      <td>Dallas</td>\n",
              "      <td>19</td>\n",
              "    </tr>\n",
              "    <tr>\n",
              "      <th>14</th>\n",
              "      <td>176570</td>\n",
              "      <td>AA Batteries (4-pack)</td>\n",
              "      <td>1</td>\n",
              "      <td>3.84</td>\n",
              "      <td>04/22/19 15:09</td>\n",
              "      <td>186 12th St, Dallas, TX 75001</td>\n",
              "      <td>4</td>\n",
              "      <td>3.84</td>\n",
              "      <td>Dallas</td>\n",
              "      <td>15</td>\n",
              "    </tr>\n",
              "    <tr>\n",
              "      <th>15</th>\n",
              "      <td>176571</td>\n",
              "      <td>Lightning Charging Cable</td>\n",
              "      <td>1</td>\n",
              "      <td>14.95</td>\n",
              "      <td>04/19/19 14:29</td>\n",
              "      <td>253 Johnson St, Atlanta, GA 30301</td>\n",
              "      <td>4</td>\n",
              "      <td>14.95</td>\n",
              "      <td>Atlanta</td>\n",
              "      <td>14</td>\n",
              "    </tr>\n",
              "    <tr>\n",
              "      <th>16</th>\n",
              "      <td>176572</td>\n",
              "      <td>Apple Airpods Headphones</td>\n",
              "      <td>1</td>\n",
              "      <td>150.00</td>\n",
              "      <td>04/04/19 20:30</td>\n",
              "      <td>149 Dogwood St, New York City, NY 10001</td>\n",
              "      <td>4</td>\n",
              "      <td>150.00</td>\n",
              "      <td>New York City</td>\n",
              "      <td>20</td>\n",
              "    </tr>\n",
              "    <tr>\n",
              "      <th>17</th>\n",
              "      <td>176573</td>\n",
              "      <td>USB-C Charging Cable</td>\n",
              "      <td>1</td>\n",
              "      <td>11.95</td>\n",
              "      <td>04/27/19 18:41</td>\n",
              "      <td>214 Chestnut St, San Francisco, CA 94016</td>\n",
              "      <td>4</td>\n",
              "      <td>11.95</td>\n",
              "      <td>San Francisco</td>\n",
              "      <td>18</td>\n",
              "    </tr>\n",
              "    <tr>\n",
              "      <th>18</th>\n",
              "      <td>176574</td>\n",
              "      <td>Google Phone</td>\n",
              "      <td>1</td>\n",
              "      <td>600.00</td>\n",
              "      <td>04/03/19 19:42</td>\n",
              "      <td>20 Hill St, Los Angeles, CA 90001</td>\n",
              "      <td>4</td>\n",
              "      <td>600.00</td>\n",
              "      <td>Los Angeles</td>\n",
              "      <td>19</td>\n",
              "    </tr>\n",
              "    <tr>\n",
              "      <th>19</th>\n",
              "      <td>176574</td>\n",
              "      <td>USB-C Charging Cable</td>\n",
              "      <td>1</td>\n",
              "      <td>11.95</td>\n",
              "      <td>04/03/19 19:42</td>\n",
              "      <td>20 Hill St, Los Angeles, CA 90001</td>\n",
              "      <td>4</td>\n",
              "      <td>11.95</td>\n",
              "      <td>Los Angeles</td>\n",
              "      <td>19</td>\n",
              "    </tr>\n",
              "    <tr>\n",
              "      <th>20</th>\n",
              "      <td>176575</td>\n",
              "      <td>AAA Batteries (4-pack)</td>\n",
              "      <td>1</td>\n",
              "      <td>2.99</td>\n",
              "      <td>04/27/19 00:30</td>\n",
              "      <td>433 Hill St, New York City, NY 10001</td>\n",
              "      <td>4</td>\n",
              "      <td>2.99</td>\n",
              "      <td>New York City</td>\n",
              "      <td>0</td>\n",
              "    </tr>\n",
              "  </tbody>\n",
              "</table>\n",
              "</div>"
            ],
            "text/plain": [
              "   Order ID                     Product  Quantity Ordered  Price Each  \\\n",
              "0    176558        USB-C Charging Cable                 2       11.95   \n",
              "2    176559  Bose SoundSport Headphones                 1       99.99   \n",
              "3    176560                Google Phone                 1      600.00   \n",
              "4    176560            Wired Headphones                 1       11.99   \n",
              "5    176561            Wired Headphones                 1       11.99   \n",
              "6    176562        USB-C Charging Cable                 1       11.95   \n",
              "7    176563  Bose SoundSport Headphones                 1       99.99   \n",
              "8    176564        USB-C Charging Cable                 1       11.95   \n",
              "9    176565          Macbook Pro Laptop                 1     1700.00   \n",
              "10   176566            Wired Headphones                 1       11.99   \n",
              "11   176567                Google Phone                 1      600.00   \n",
              "12   176568    Lightning Charging Cable                 1       14.95   \n",
              "13   176569      27in 4K Gaming Monitor                 1      389.99   \n",
              "14   176570       AA Batteries (4-pack)                 1        3.84   \n",
              "15   176571    Lightning Charging Cable                 1       14.95   \n",
              "16   176572    Apple Airpods Headphones                 1      150.00   \n",
              "17   176573        USB-C Charging Cable                 1       11.95   \n",
              "18   176574                Google Phone                 1      600.00   \n",
              "19   176574        USB-C Charging Cable                 1       11.95   \n",
              "20   176575      AAA Batteries (4-pack)                 1        2.99   \n",
              "\n",
              "        Order Date                          Purchase Address  Month    sales  \\\n",
              "0   04/19/19 08:46              917 1st St, Dallas, TX 75001      4    23.90   \n",
              "2   04/07/19 22:30         682 Chestnut St, Boston, MA 02215      4    99.99   \n",
              "3   04/12/19 14:38      669 Spruce St, Los Angeles, CA 90001      4   600.00   \n",
              "4   04/12/19 14:38      669 Spruce St, Los Angeles, CA 90001      4    11.99   \n",
              "5   04/30/19 09:27         333 8th St, Los Angeles, CA 90001      4    11.99   \n",
              "6   04/29/19 13:03    381 Wilson St, San Francisco, CA 94016      4    11.95   \n",
              "7   04/02/19 07:46          668 Center St, Seattle, WA 98101      4    99.99   \n",
              "8   04/12/19 10:58           790 Ridge St, Atlanta, GA 30301      4    11.95   \n",
              "9   04/24/19 10:38    915 Willow St, San Francisco, CA 94016      4  1700.00   \n",
              "10  04/08/19 14:05               83 7th St, Boston, MA 02215      4    11.99   \n",
              "11  04/18/19 17:18         444 7th St, Los Angeles, CA 90001      4   600.00   \n",
              "12  04/15/19 12:18             438 Elm St, Seattle, WA 98101      4    14.95   \n",
              "13  04/16/19 19:23             657 Hill St, Dallas, TX 75001      4   389.99   \n",
              "14  04/22/19 15:09             186 12th St, Dallas, TX 75001      4     3.84   \n",
              "15  04/19/19 14:29         253 Johnson St, Atlanta, GA 30301      4    14.95   \n",
              "16  04/04/19 20:30   149 Dogwood St, New York City, NY 10001      4   150.00   \n",
              "17  04/27/19 18:41  214 Chestnut St, San Francisco, CA 94016      4    11.95   \n",
              "18  04/03/19 19:42         20 Hill St, Los Angeles, CA 90001      4   600.00   \n",
              "19  04/03/19 19:42         20 Hill St, Los Angeles, CA 90001      4    11.95   \n",
              "20  04/27/19 00:30      433 Hill St, New York City, NY 10001      4     2.99   \n",
              "\n",
              "              city  Hour  \n",
              "0           Dallas     8  \n",
              "2           Boston    22  \n",
              "3      Los Angeles    14  \n",
              "4      Los Angeles    14  \n",
              "5      Los Angeles     9  \n",
              "6    San Francisco    13  \n",
              "7          Seattle     7  \n",
              "8          Atlanta    10  \n",
              "9    San Francisco    10  \n",
              "10          Boston    14  \n",
              "11     Los Angeles    17  \n",
              "12         Seattle    12  \n",
              "13          Dallas    19  \n",
              "14          Dallas    15  \n",
              "15         Atlanta    14  \n",
              "16   New York City    20  \n",
              "17   San Francisco    18  \n",
              "18     Los Angeles    19  \n",
              "19     Los Angeles    19  \n",
              "20   New York City     0  "
            ]
          },
          "execution_count": 91,
          "metadata": {},
          "output_type": "execute_result"
        }
      ],
      "source": [
        "df=all_data[all_data['Order ID'].duplicated(keep=False)]\n",
        "df.head(20)"
      ]
    },
    {
      "cell_type": "code",
      "execution_count": null,
      "metadata": {
        "id": "IQ96234GhAWf"
      },
      "outputs": [],
      "source": [
        "#create grouped col \n",
        "df['Grouped'] = df.groupby('Order ID')['Product'].transform(lambda x: ','.join(x))"
      ]
    },
    {
      "cell_type": "code",
      "execution_count": null,
      "metadata": {
        "id": "vEktsMHahAWg",
        "outputId": "1734f693-b92e-45d5-e4cb-74e2319b8f3c"
      },
      "outputs": [
        {
          "data": {
            "text/html": [
              "<div>\n",
              "<style scoped>\n",
              "    .dataframe tbody tr th:only-of-type {\n",
              "        vertical-align: middle;\n",
              "    }\n",
              "\n",
              "    .dataframe tbody tr th {\n",
              "        vertical-align: top;\n",
              "    }\n",
              "\n",
              "    .dataframe thead th {\n",
              "        text-align: right;\n",
              "    }\n",
              "</style>\n",
              "<table border=\"1\" class=\"dataframe\">\n",
              "  <thead>\n",
              "    <tr style=\"text-align: right;\">\n",
              "      <th></th>\n",
              "      <th>Order ID</th>\n",
              "      <th>Product</th>\n",
              "      <th>Quantity Ordered</th>\n",
              "      <th>Price Each</th>\n",
              "      <th>Order Date</th>\n",
              "      <th>Purchase Address</th>\n",
              "      <th>Month</th>\n",
              "      <th>sales</th>\n",
              "      <th>city</th>\n",
              "      <th>Hour</th>\n",
              "      <th>Grouped</th>\n",
              "    </tr>\n",
              "  </thead>\n",
              "  <tbody>\n",
              "    <tr>\n",
              "      <th>0</th>\n",
              "      <td>176558</td>\n",
              "      <td>USB-C Charging Cable</td>\n",
              "      <td>2</td>\n",
              "      <td>11.95</td>\n",
              "      <td>04/19/19 08:46</td>\n",
              "      <td>917 1st St, Dallas, TX 75001</td>\n",
              "      <td>4</td>\n",
              "      <td>23.90</td>\n",
              "      <td>Dallas</td>\n",
              "      <td>8</td>\n",
              "      <td>USB-C Charging Cable,USB-C Charging Cable,USB-...</td>\n",
              "    </tr>\n",
              "    <tr>\n",
              "      <th>2</th>\n",
              "      <td>176559</td>\n",
              "      <td>Bose SoundSport Headphones</td>\n",
              "      <td>1</td>\n",
              "      <td>99.99</td>\n",
              "      <td>04/07/19 22:30</td>\n",
              "      <td>682 Chestnut St, Boston, MA 02215</td>\n",
              "      <td>4</td>\n",
              "      <td>99.99</td>\n",
              "      <td>Boston</td>\n",
              "      <td>22</td>\n",
              "      <td>Bose SoundSport Headphones,Bose SoundSport Hea...</td>\n",
              "    </tr>\n",
              "    <tr>\n",
              "      <th>3</th>\n",
              "      <td>176560</td>\n",
              "      <td>Google Phone</td>\n",
              "      <td>1</td>\n",
              "      <td>600.00</td>\n",
              "      <td>04/12/19 14:38</td>\n",
              "      <td>669 Spruce St, Los Angeles, CA 90001</td>\n",
              "      <td>4</td>\n",
              "      <td>600.00</td>\n",
              "      <td>Los Angeles</td>\n",
              "      <td>14</td>\n",
              "      <td>Google Phone,Wired Headphones,Google Phone,Wir...</td>\n",
              "    </tr>\n",
              "    <tr>\n",
              "      <th>4</th>\n",
              "      <td>176560</td>\n",
              "      <td>Wired Headphones</td>\n",
              "      <td>1</td>\n",
              "      <td>11.99</td>\n",
              "      <td>04/12/19 14:38</td>\n",
              "      <td>669 Spruce St, Los Angeles, CA 90001</td>\n",
              "      <td>4</td>\n",
              "      <td>11.99</td>\n",
              "      <td>Los Angeles</td>\n",
              "      <td>14</td>\n",
              "      <td>Google Phone,Wired Headphones,Google Phone,Wir...</td>\n",
              "    </tr>\n",
              "    <tr>\n",
              "      <th>5</th>\n",
              "      <td>176561</td>\n",
              "      <td>Wired Headphones</td>\n",
              "      <td>1</td>\n",
              "      <td>11.99</td>\n",
              "      <td>04/30/19 09:27</td>\n",
              "      <td>333 8th St, Los Angeles, CA 90001</td>\n",
              "      <td>4</td>\n",
              "      <td>11.99</td>\n",
              "      <td>Los Angeles</td>\n",
              "      <td>9</td>\n",
              "      <td>Wired Headphones,Wired Headphones,Wired Headph...</td>\n",
              "    </tr>\n",
              "  </tbody>\n",
              "</table>\n",
              "</div>"
            ],
            "text/plain": [
              "  Order ID                     Product  Quantity Ordered  Price Each  \\\n",
              "0   176558        USB-C Charging Cable                 2       11.95   \n",
              "2   176559  Bose SoundSport Headphones                 1       99.99   \n",
              "3   176560                Google Phone                 1      600.00   \n",
              "4   176560            Wired Headphones                 1       11.99   \n",
              "5   176561            Wired Headphones                 1       11.99   \n",
              "\n",
              "       Order Date                      Purchase Address  Month   sales  \\\n",
              "0  04/19/19 08:46          917 1st St, Dallas, TX 75001      4   23.90   \n",
              "2  04/07/19 22:30     682 Chestnut St, Boston, MA 02215      4   99.99   \n",
              "3  04/12/19 14:38  669 Spruce St, Los Angeles, CA 90001      4  600.00   \n",
              "4  04/12/19 14:38  669 Spruce St, Los Angeles, CA 90001      4   11.99   \n",
              "5  04/30/19 09:27     333 8th St, Los Angeles, CA 90001      4   11.99   \n",
              "\n",
              "           city  Hour                                            Grouped  \n",
              "0        Dallas     8  USB-C Charging Cable,USB-C Charging Cable,USB-...  \n",
              "2        Boston    22  Bose SoundSport Headphones,Bose SoundSport Hea...  \n",
              "3   Los Angeles    14  Google Phone,Wired Headphones,Google Phone,Wir...  \n",
              "4   Los Angeles    14  Google Phone,Wired Headphones,Google Phone,Wir...  \n",
              "5   Los Angeles     9  Wired Headphones,Wired Headphones,Wired Headph...  "
            ]
          },
          "execution_count": 93,
          "metadata": {},
          "output_type": "execute_result"
        }
      ],
      "source": [
        "df.head()"
      ]
    },
    {
      "cell_type": "code",
      "execution_count": null,
      "metadata": {
        "id": "0WfYcEGqhAWg",
        "outputId": "0c710d67-7717-49fe-8636-0aa9685017f6"
      },
      "outputs": [
        {
          "data": {
            "text/plain": [
              "(557850, 11)"
            ]
          },
          "execution_count": 94,
          "metadata": {},
          "output_type": "execute_result"
        }
      ],
      "source": [
        "df.shape"
      ]
    },
    {
      "cell_type": "code",
      "execution_count": null,
      "metadata": {
        "id": "VMEP1P3XhAWg"
      },
      "outputs": [],
      "source": [
        "#lets drop out all duplicate Order ID\n",
        "df2 = df.drop_duplicates(subset=['Order ID'])"
      ]
    },
    {
      "cell_type": "code",
      "execution_count": null,
      "metadata": {
        "id": "nUDs6Kj6hAWh",
        "outputId": "f2355306-0cfc-4fbc-972d-3e71ba0a221f"
      },
      "outputs": [
        {
          "data": {
            "text/plain": [
              "<AxesSubplot:ylabel='Grouped'>"
            ]
          },
          "execution_count": 96,
          "metadata": {},
          "output_type": "execute_result"
        },
        {
          "data": {
            "image/png": "[encoded data removed]",
            "text/plain": [
              "<Figure size 432x288 with 1 Axes>"
            ]
          },
          "metadata": {},
          "output_type": "display_data"
        }
      ],
      "source": [
        "df2['Grouped'].value_counts()[0:5].plot.pie()"
      ]
    },
    {
      "cell_type": "code",
      "execution_count": null,
      "metadata": {
        "id": "CM178pychAWh"
      },
      "outputs": [],
      "source": [
        "import plotly.graph_objs as go\n",
        "from plotly.offline import iplot"
      ]
    },
    {
      "cell_type": "code",
      "execution_count": null,
      "metadata": {
        "id": "51tNEVEyhAWh"
      },
      "outputs": [],
      "source": [
        "values=df2['Grouped'].value_counts()[0:5]\n",
        "labels=df['Grouped'].value_counts()[0:5].index"
      ]
    },
    {
      "cell_type": "code",
      "execution_count": null,
      "metadata": {
        "id": "dcNJ74PChAWi"
      },
      "outputs": [],
      "source": [
        "trace=go.Pie(labels=labels, values=values,\n",
        "               hoverinfo='label+percent', textinfo='value', \n",
        "               textfont=dict(size=25),\n",
        "              pull=[0, 0, 0,0.2, 0]\n",
        "               )"
      ]
    },
    {
      "cell_type": "code",
      "execution_count": null,
      "metadata": {
        "id": "902t2ypyhAWi",
        "outputId": "3671964b-f6df-4d3b-fe5b-73eb8a2fb949"
      },
      "outputs": [
        {
          "data": {
            "application/vnd.plotly.v1+json": {
              "config": {
                "linkText": "Export to plot.ly",
                "plotlyServerURL": "https://plot.ly",
                "showLink": false
              },
              "data": [
                {
                  "hoverinfo": "label+percent",
                  "labels": [
                    "Lightning Charging Cable,Lightning Charging Cable,Lightning Charging Cable",
                    "AAA Batteries (4-pack),AAA Batteries (4-pack),AAA Batteries (4-pack)",
                    "AA Batteries (4-pack),AA Batteries (4-pack),AA Batteries (4-pack)",
                    "USB-C Charging Cable,USB-C Charging Cable,USB-C Charging Cable",
                    "Wired Headphones,Wired Headphones,Wired Headphones"
                  ],
                  "pull": [
                    0,
                    0,
                    0,
                    0.2,
                    0
                  ],
                  "textfont": {
                    "size": 25
                  },
                  "textinfo": "value",
                  "type": "pie",
                  "values": [
                    19831,
                    19826,
                    19809,
                    19792,
                    17208
                  ]
                }
              ],
              "layout": {
                "template": {
                  "data": {
                    "bar": [
                      {
                        "error_x": {
                          "color": "#2a3f5f"
                        },
                        "error_y": {
                          "color": "#2a3f5f"
                        },
                        "marker": {
                          "line": {
                            "color": "#E5ECF6",
                            "width": 0.5
                          },
                          "pattern": {
                            "fillmode": "overlay",
                            "size": 10,
                            "solidity": 0.2
                          }
                        },
                        "type": "bar"
                      }
                    ],
                    "barpolar": [
                      {
                        "marker": {
                          "line": {
                            "color": "#E5ECF6",
                            "width": 0.5
                          },
                          "pattern": {
                            "fillmode": "overlay",
                            "size": 10,
                            "solidity": 0.2
                          }
                        },
                        "type": "barpolar"
                      }
                    ],
                    "carpet": [
                      {
                        "aaxis": {
                          "endlinecolor": "#2a3f5f",
                          "gridcolor": "white",
                          "linecolor": "white",
                          "minorgridcolor": "white",
                          "startlinecolor": "#2a3f5f"
                        },
                        "baxis": {
                          "endlinecolor": "#2a3f5f",
                          "gridcolor": "white",
                          "linecolor": "white",
                          "minorgridcolor": "white",
                          "startlinecolor": "#2a3f5f"
                        },
                        "type": "carpet"
                      }
                    ],
                    "choropleth": [
                      {
                        "colorbar": {
                          "outlinewidth": 0,
                          "ticks": ""
                        },
                        "type": "choropleth"
                      }
                    ],
                    "contour": [
                      {
                        "colorbar": {
                          "outlinewidth": 0,
                          "ticks": ""
                        },
                        "colorscale": [
                          [
                            0,
                            "#0d0887"
                          ],
                          [
                            0.1111111111111111,
                            "#46039f"
                          ],
                          [
                            0.2222222222222222,
                            "#7201a8"
                          ],
                          [
                            0.3333333333333333,
                            "#9c179e"
                          ],
                          [
                            0.4444444444444444,
                            "#bd3786"
                          ],
                          [
                            0.5555555555555556,
                            "#d8576b"
                          ],
                          [
                            0.6666666666666666,
                            "#ed7953"
                          ],
                          [
                            0.7777777777777778,
                            "#fb9f3a"
                          ],
                          [
                            0.8888888888888888,
                            "#fdca26"
                          ],
                          [
                            1,
                            "#f0f921"
                          ]
                        ],
                        "type": "contour"
                      }
                    ],
                    "contourcarpet": [
                      {
                        "colorbar": {
                          "outlinewidth": 0,
                          "ticks": ""
                        },
                        "type": "contourcarpet"
                      }
                    ],
                    "heatmap": [
                      {
                        "colorbar": {
                          "outlinewidth": 0,
                          "ticks": ""
                        },
                        "colorscale": [
                          [
                            0,
                            "#0d0887"
                          ],
                          [
                            0.1111111111111111,
                            "#46039f"
                          ],
                          [
                            0.2222222222222222,
                            "#7201a8"
                          ],
                          [
                            0.3333333333333333,
                            "#9c179e"
                          ],
                          [
                            0.4444444444444444,
                            "#bd3786"
                          ],
                          [
                            0.5555555555555556,
                            "#d8576b"
                          ],
                          [
                            0.6666666666666666,
                            "#ed7953"
                          ],
                          [
                            0.7777777777777778,
                            "#fb9f3a"
                          ],
                          [
                            0.8888888888888888,
                            "#fdca26"
                          ],
                          [
                            1,
                            "#f0f921"
                          ]
                        ],
                        "type": "heatmap"
                      }
                    ],
                    "heatmapgl": [
                      {
                        "colorbar": {
                          "outlinewidth": 0,
                          "ticks": ""
                        },
                        "colorscale": [
                          [
                            0,
                            "#0d0887"
                          ],
                          [
                            0.1111111111111111,
                            "#46039f"
                          ],
                          [
                            0.2222222222222222,
                            "#7201a8"
                          ],
                          [
                            0.3333333333333333,
                            "#9c179e"
                          ],
                          [
                            0.4444444444444444,
                            "#bd3786"
                          ],
                          [
                            0.5555555555555556,
                            "#d8576b"
                          ],
                          [
                            0.6666666666666666,
                            "#ed7953"
                          ],
                          [
                            0.7777777777777778,
                            "#fb9f3a"
                          ],
                          [
                            0.8888888888888888,
                            "#fdca26"
                          ],
                          [
                            1,
                            "#f0f921"
                          ]
                        ],
                        "type": "heatmapgl"
                      }
                    ],
                    "histogram": [
                      {
                        "marker": {
                          "pattern": {
                            "fillmode": "overlay",
                            "size": 10,
                            "solidity": 0.2
                          }
                        },
                        "type": "histogram"
                      }
                    ],
                    "histogram2d": [
                      {
                        "colorbar": {
                          "outlinewidth": 0,
                          "ticks": ""
                        },
                        "colorscale": [
                          [
                            0,
                            "#0d0887"
                          ],
                          [
                            0.1111111111111111,
                            "#46039f"
                          ],
                          [
                            0.2222222222222222,
                            "#7201a8"
                          ],
                          [
                            0.3333333333333333,
                            "#9c179e"
                          ],
                          [
                            0.4444444444444444,
                            "#bd3786"
                          ],
                          [
                            0.5555555555555556,
                            "#d8576b"
                          ],
                          [
                            0.6666666666666666,
                            "#ed7953"
                          ],
                          [
                            0.7777777777777778,
                            "#fb9f3a"
                          ],
                          [
                            0.8888888888888888,
                            "#fdca26"
                          ],
                          [
                            1,
                            "#f0f921"
                          ]
                        ],
                        "type": "histogram2d"
                      }
                    ],
                    "histogram2dcontour": [
                      {
                        "colorbar": {
                          "outlinewidth": 0,
                          "ticks": ""
                        },
                        "colorscale": [
                          [
                            0,
                            "#0d0887"
                          ],
                          [
                            0.1111111111111111,
                            "#46039f"
                          ],
                          [
                            0.2222222222222222,
                            "#7201a8"
                          ],
                          [
                            0.3333333333333333,
                            "#9c179e"
                          ],
                          [
                            0.4444444444444444,
                            "#bd3786"
                          ],
                          [
                            0.5555555555555556,
                            "#d8576b"
                          ],
                          [
                            0.6666666666666666,
                            "#ed7953"
                          ],
                          [
                            0.7777777777777778,
                            "#fb9f3a"
                          ],
                          [
                            0.8888888888888888,
                            "#fdca26"
                          ],
                          [
                            1,
                            "#f0f921"
                          ]
                        ],
                        "type": "histogram2dcontour"
                      }
                    ],
                    "mesh3d": [
                      {
                        "colorbar": {
                          "outlinewidth": 0,
                          "ticks": ""
                        },
                        "type": "mesh3d"
                      }
                    ],
                    "parcoords": [
                      {
                        "line": {
                          "colorbar": {
                            "outlinewidth": 0,
                            "ticks": ""
                          }
                        },
                        "type": "parcoords"
                      }
                    ],
                    "pie": [
                      {
                        "automargin": true,
                        "type": "pie"
                      }
                    ],
                    "scatter": [
                      {
                        "marker": {
                          "colorbar": {
                            "outlinewidth": 0,
                            "ticks": ""
                          }
                        },
                        "type": "scatter"
                      }
                    ],
                    "scatter3d": [
                      {
                        "line": {
                          "colorbar": {
                            "outlinewidth": 0,
                            "ticks": ""
                          }
                        },
                        "marker": {
                          "colorbar": {
                            "outlinewidth": 0,
                            "ticks": ""
                          }
                        },
                        "type": "scatter3d"
                      }
                    ],
                    "scattercarpet": [
                      {
                        "marker": {
                          "colorbar": {
                            "outlinewidth": 0,
                            "ticks": ""
                          }
                        },
                        "type": "scattercarpet"
                      }
                    ],
                    "scattergeo": [
                      {
                        "marker": {
                          "colorbar": {
                            "outlinewidth": 0,
                            "ticks": ""
                          }
                        },
                        "type": "scattergeo"
                      }
                    ],
                    "scattergl": [
                      {
                        "marker": {
                          "colorbar": {
                            "outlinewidth": 0,
                            "ticks": ""
                          }
                        },
                        "type": "scattergl"
                      }
                    ],
                    "scattermapbox": [
                      {
                        "marker": {
                          "colorbar": {
                            "outlinewidth": 0,
                            "ticks": ""
                          }
                        },
                        "type": "scattermapbox"
                      }
                    ],
                    "scatterpolar": [
                      {
                        "marker": {
                          "colorbar": {
                            "outlinewidth": 0,
                            "ticks": ""
                          }
                        },
                        "type": "scatterpolar"
                      }
                    ],
                    "scatterpolargl": [
                      {
                        "marker": {
                          "colorbar": {
                            "outlinewidth": 0,
                            "ticks": ""
                          }
                        },
                        "type": "scatterpolargl"
                      }
                    ],
                    "scatterternary": [
                      {
                        "marker": {
                          "colorbar": {
                            "outlinewidth": 0,
                            "ticks": ""
                          }
                        },
                        "type": "scatterternary"
                      }
                    ],
                    "surface": [
                      {
                        "colorbar": {
                          "outlinewidth": 0,
                          "ticks": ""
                        },
                        "colorscale": [
                          [
                            0,
                            "#0d0887"
                          ],
                          [
                            0.1111111111111111,
                            "#46039f"
                          ],
                          [
                            0.2222222222222222,
                            "#7201a8"
                          ],
                          [
                            0.3333333333333333,
                            "#9c179e"
                          ],
                          [
                            0.4444444444444444,
                            "#bd3786"
                          ],
                          [
                            0.5555555555555556,
                            "#d8576b"
                          ],
                          [
                            0.6666666666666666,
                            "#ed7953"
                          ],
                          [
                            0.7777777777777778,
                            "#fb9f3a"
                          ],
                          [
                            0.8888888888888888,
                            "#fdca26"
                          ],
                          [
                            1,
                            "#f0f921"
                          ]
                        ],
                        "type": "surface"
                      }
                    ],
                    "table": [
                      {
                        "cells": {
                          "fill": {
                            "color": "#EBF0F8"
                          },
                          "line": {
                            "color": "white"
                          }
                        },
                        "header": {
                          "fill": {
                            "color": "#C8D4E3"
                          },
                          "line": {
                            "color": "white"
                          }
                        },
                        "type": "table"
                      }
                    ]
                  },
                  "layout": {
                    "annotationdefaults": {
                      "arrowcolor": "#2a3f5f",
                      "arrowhead": 0,
                      "arrowwidth": 1
                    },
                    "autotypenumbers": "strict",
                    "coloraxis": {
                      "colorbar": {
                        "outlinewidth": 0,
                        "ticks": ""
                      }
                    },
                    "colorscale": {
                      "diverging": [
                        [
                          0,
                          "#8e0152"
                        ],
                        [
                          0.1,
                          "#c51b7d"
                        ],
                        [
                          0.2,
                          "#de77ae"
                        ],
                        [
                          0.3,
                          "#f1b6da"
                        ],
                        [
                          0.4,
                          "#fde0ef"
                        ],
                        [
                          0.5,
                          "#f7f7f7"
                        ],
                        [
                          0.6,
                          "#e6f5d0"
                        ],
                        [
                          0.7,
                          "#b8e186"
                        ],
                        [
                          0.8,
                          "#7fbc41"
                        ],
                        [
                          0.9,
                          "#4d9221"
                        ],
                        [
                          1,
                          "#276419"
                        ]
                      ],
                      "sequential": [
                        [
                          0,
                          "#0d0887"
                        ],
                        [
                          0.1111111111111111,
                          "#46039f"
                        ],
                        [
                          0.2222222222222222,
                          "#7201a8"
                        ],
                        [
                          0.3333333333333333,
                          "#9c179e"
                        ],
                        [
                          0.4444444444444444,
                          "#bd3786"
                        ],
                        [
                          0.5555555555555556,
                          "#d8576b"
                        ],
                        [
                          0.6666666666666666,
                          "#ed7953"
                        ],
                        [
                          0.7777777777777778,
                          "#fb9f3a"
                        ],
                        [
                          0.8888888888888888,
                          "#fdca26"
                        ],
                        [
                          1,
                          "#f0f921"
                        ]
                      ],
                      "sequentialminus": [
                        [
                          0,
                          "#0d0887"
                        ],
                        [
                          0.1111111111111111,
                          "#46039f"
                        ],
                        [
                          0.2222222222222222,
                          "#7201a8"
                        ],
                        [
                          0.3333333333333333,
                          "#9c179e"
                        ],
                        [
                          0.4444444444444444,
                          "#bd3786"
                        ],
                        [
                          0.5555555555555556,
                          "#d8576b"
                        ],
                        [
                          0.6666666666666666,
                          "#ed7953"
                        ],
                        [
                          0.7777777777777778,
                          "#fb9f3a"
                        ],
                        [
                          0.8888888888888888,
                          "#fdca26"
                        ],
                        [
                          1,
                          "#f0f921"
                        ]
                      ]
                    },
                    "colorway": [
                      "#636efa",
                      "#EF553B",
                      "#00cc96",
                      "#ab63fa",
                      "#FFA15A",
                      "#19d3f3",
                      "#FF6692",
                      "#B6E880",
                      "#FF97FF",
                      "#FECB52"
                    ],
                    "font": {
                      "color": "#2a3f5f"
                    },
                    "geo": {
                      "bgcolor": "white",
                      "lakecolor": "white",
                      "landcolor": "#E5ECF6",
                      "showlakes": true,
                      "showland": true,
                      "subunitcolor": "white"
                    },
                    "hoverlabel": {
                      "align": "left"
                    },
                    "hovermode": "closest",
                    "mapbox": {
                      "style": "light"
                    },
                    "paper_bgcolor": "white",
                    "plot_bgcolor": "#E5ECF6",
                    "polar": {
                      "angularaxis": {
                        "gridcolor": "white",
                        "linecolor": "white",
                        "ticks": ""
                      },
                      "bgcolor": "#E5ECF6",
                      "radialaxis": {
                        "gridcolor": "white",
                        "linecolor": "white",
                        "ticks": ""
                      }
                    },
                    "scene": {
                      "xaxis": {
                        "backgroundcolor": "#E5ECF6",
                        "gridcolor": "white",
                        "gridwidth": 2,
                        "linecolor": "white",
                        "showbackground": true,
                        "ticks": "",
                        "zerolinecolor": "white"
                      },
                      "yaxis": {
                        "backgroundcolor": "#E5ECF6",
                        "gridcolor": "white",
                        "gridwidth": 2,
                        "linecolor": "white",
                        "showbackground": true,
                        "ticks": "",
                        "zerolinecolor": "white"
                      },
                      "zaxis": {
                        "backgroundcolor": "#E5ECF6",
                        "gridcolor": "white",
                        "gridwidth": 2,
                        "linecolor": "white",
                        "showbackground": true,
                        "ticks": "",
                        "zerolinecolor": "white"
                      }
                    },
                    "shapedefaults": {
                      "line": {
                        "color": "#2a3f5f"
                      }
                    },
                    "ternary": {
                      "aaxis": {
                        "gridcolor": "white",
                        "linecolor": "white",
                        "ticks": ""
                      },
                      "baxis": {
                        "gridcolor": "white",
                        "linecolor": "white",
                        "ticks": ""
                      },
                      "bgcolor": "#E5ECF6",
                      "caxis": {
                        "gridcolor": "white",
                        "linecolor": "white",
                        "ticks": ""
                      }
                    },
                    "title": {
                      "x": 0.05
                    },
                    "xaxis": {
                      "automargin": true,
                      "gridcolor": "white",
                      "linecolor": "white",
                      "ticks": "",
                      "title": {
                        "standoff": 15
                      },
                      "zerolinecolor": "white",
                      "zerolinewidth": 2
                    },
                    "yaxis": {
                      "automargin": true,
                      "gridcolor": "white",
                      "linecolor": "white",
                      "ticks": "",
                      "title": {
                        "standoff": 15
                      },
                      "zerolinecolor": "white",
                      "zerolinewidth": 2
                    }
                  }
                }
              }
            }
          },
          "metadata": {},
          "output_type": "display_data"
        }
      ],
      "source": [
        "iplot([trace])"
      ]
    }
  ],
  "metadata": {
    "kernelspec": {
      "display_name": "Python 3",
      "language": "python",
      "name": "python3"
    },
    "language_info": {
      "codemirror_mode": {
        "name": "ipython",
        "version": 3
      },
      "file_extension": ".py",
      "mimetype": "text/x-python",
      "name": "python",
      "nbconvert_exporter": "python",
      "pygments_lexer": "ipython3",
      "version": "3.9.7"
    },
    "colab": {
      "name": "Sales_Analysis_Production.ipynb",
      "provenance": [],
      "include_colab_link": true
    }
  },
  "nbformat": 4,
  "nbformat_minor": 0
}